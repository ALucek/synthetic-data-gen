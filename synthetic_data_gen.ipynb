{
 "cells": [
  {
   "cell_type": "markdown",
   "id": "d5a70c85-43a2-419c-bd76-9e26e48e5d43",
   "metadata": {},
   "source": [
    "# Generating Synthetic Data w/LangChain\n",
    "\n",
    "<img src=\"https://dataingovernment.blog.gov.uk/wp-content/uploads/sites/46/2020/08/synthetic_data_image-1536x718.png\"  width=600>\n",
    "\n",
    "Synthetic data is no new concept in machine learning, however the generation of synthetic data is becoming easier and more robust with the advent of LLMs text generation skills. Researchers are using LLMs to generate synthetic data en masse for all sorts of tasks like:\n",
    "* Generating Synthetic Confidential Data (Healthcare, HR, Financial, etc)\n",
    "* Creating Small Language Models for Specialized Tasks\n",
    "* Optimizations and Model Alignment via Fine Tuning\n",
    "* Addressing long-tail and rare cases where data is insufficient\n",
    "\n",
    "The LLM framework LangChain has built in synthetic data generators ([documentation here](https://python.langchain.com/v0.2/docs/tutorials/data_generation/)), we'll be going over how to use this for multiple different data models and generate our own synthetic data using LLMs"
   ]
  },
  {
   "cell_type": "markdown",
   "id": "ef0846e1-e8ef-4ce2-b225-c51fe1d950a2",
   "metadata": {},
   "source": [
    "---\n",
    "## Dependencies"
   ]
  },
  {
   "cell_type": "code",
   "execution_count": 1,
   "id": "1242cfc0-518b-4c50-884d-9c78c9d86e72",
   "metadata": {},
   "outputs": [],
   "source": [
    "from langchain.prompts import FewShotPromptTemplate, PromptTemplate\n",
    "from langchain_core.pydantic_v1 import BaseModel\n",
    "from langchain_experimental.tabular_synthetic_data.openai import (\n",
    "    OPENAI_TEMPLATE,\n",
    "    create_openai_data_generator,\n",
    ")\n",
    "from langchain_experimental.tabular_synthetic_data.prompts import (\n",
    "    SYNTHETIC_FEW_SHOT_PREFIX,\n",
    "    SYNTHETIC_FEW_SHOT_SUFFIX,\n",
    ")\n",
    "from langchain_openai import ChatOpenAI\n",
    "\n",
    "from datetime import datetime, date\n",
    "from enum import Enum\n",
    "from typing import Type, List, Optional\n",
    "import csv"
   ]
  },
  {
   "cell_type": "markdown",
   "id": "c680fda1-8080-4324-beee-e1f984d4a75e",
   "metadata": {},
   "source": [
    "---\n",
    "# Defining Your Data Model\n",
    "\n",
    "This takes the form of a Pydantic BaseModel class, where you can specify each attribute and its expected value type.\n",
    "\n",
    "Below are some examples of potential data models across industries, with few-shot examples for each that will be used in the final prompt"
   ]
  },
  {
   "cell_type": "markdown",
   "id": "9702c36a-e8cb-4e0f-9aad-cf98aa04a4c5",
   "metadata": {},
   "source": [
    "### Financial Transactions"
   ]
  },
  {
   "cell_type": "code",
   "execution_count": null,
   "id": "d040f9c2-7d82-4d1e-be38-964d5e0bc969",
   "metadata": {},
   "outputs": [],
   "source": [
    "# Financial Transaction Data Model\n",
    "class FinancialTransaction(BaseModel):\n",
    "    transaction_id: str\n",
    "    timestamp: datetime\n",
    "    amount: float\n",
    "    currency: str\n",
    "    sender: str\n",
    "    recipient: str\n",
    "    transaction_type: str\n",
    "    description: Optional[str]\n",
    "    fee: Optional[float]\n",
    "\n",
    "financial_examples = [\n",
    "    {\n",
    "        \"example\": \"\"\"Transaction ID: FT001, Timestamp: 2024-07-26 09:15:30, Amount: 1500.00, \n",
    "        Currency: USD, Sender: John Smith, Recipient: Alice Johnson, \n",
    "        Transaction Type: Bank Transfer, Description: Monthly rent payment, Fee: 5.00\"\"\"\n",
    "    },\n",
    "    {\n",
    "        \"example\": \"\"\"Transaction ID: FT002, Timestamp: 2024-07-26 14:30:45, Amount: 75.50, \n",
    "        Currency: EUR, Sender: Marie Dupont, Recipient: Café Parisien, \n",
    "        Transaction Type: Credit Card Payment, Description: Lunch with colleagues, Fee: None\"\"\"\n",
    "    },\n",
    "    {\n",
    "        \"example\": \"\"\"Transaction ID: FT003, Timestamp: 2024-07-26 18:45:00, Amount: 10000.00, \n",
    "        Currency: JPY, Sender: Tanaka Corp, Recipient: Yamada Ltd, \n",
    "        Transaction Type: Wire Transfer, Description: None, Fee: 1500.00\"\"\"\n",
    "    }\n",
    "]"
   ]
  },
  {
   "cell_type": "markdown",
   "id": "2544ec83-c382-4925-915c-38afc02eb209",
   "metadata": {},
   "source": [
    "### IoT Device Data"
   ]
  },
  {
   "cell_type": "code",
   "execution_count": null,
   "id": "6d198124-21ee-4f25-bad4-8ba6731715ec",
   "metadata": {},
   "outputs": [],
   "source": [
    "# IoT Device Data Model\n",
    "class IoTDeviceData(BaseModel):\n",
    "    device_id: str\n",
    "    timestamp: datetime\n",
    "    device_type: str\n",
    "    location: str\n",
    "    temperature: float\n",
    "    humidity: Optional[float]\n",
    "    pressure: Optional[float]\n",
    "    battery_level: float\n",
    "    wifi_signal_strength: int\n",
    "    firmware_version: str\n",
    "    last_maintenance_date: Optional[datetime]\n",
    "    error_code: Optional[str]\n",
    "    data_transfer_rate: float\n",
    "    is_active: bool\n",
    "\n",
    "iot_examples = [\n",
    "    {\n",
    "        \"example\": \"\"\"Device ID: IOT001, Timestamp: 2024-07-26 14:30:15, Device Type: Temperature Sensor, \n",
    "        Location: Warehouse A, Temperature: 23.5, Humidity: 45.2, Pressure: 1013.25, \n",
    "        Battery Level: 87.5, WiFi Signal Strength: -65, Firmware Version: v2.1.3, \n",
    "        Last Maintenance Date: 2024-05-15 09:00:00, Error Code: None, \n",
    "        Data Transfer Rate: 256.5, Is Active: True\"\"\"\n",
    "    },\n",
    "    {\n",
    "        \"example\": \"\"\"Device ID: IOT002, Timestamp: 2024-07-26 15:45:30, Device Type: Smart Thermostat, \n",
    "        Location: Office Building Floor 3, Temperature: 21.8, Humidity: 38.7, Pressure: None, \n",
    "        Battery Level: 92.3, WiFi Signal Strength: -58, Firmware Version: v3.0.1, \n",
    "        Last Maintenance Date: None, Error Code: E004, \n",
    "        Data Transfer Rate: 128.0, Is Active: True\"\"\"\n",
    "    },\n",
    "    {\n",
    "        \"example\": \"\"\"Device ID: IOT003, Timestamp: 2024-07-26 16:15:45, Device Type: Environmental Monitor, \n",
    "        Location: Greenhouse B, Temperature: 28.2, Humidity: 75.5, Pressure: 1010.75, \n",
    "        Battery Level: 45.8, WiFi Signal Strength: -72, Firmware Version: v1.9.7, \n",
    "        Last Maintenance Date: 2024-06-30 14:00:00, Error Code: None, \n",
    "        Data Transfer Rate: 512.3, Is Active: False\"\"\"\n",
    "    }\n",
    "]"
   ]
  },
  {
   "cell_type": "markdown",
   "id": "365d3f2f-b5b5-43cc-9027-a4cfbcb437d7",
   "metadata": {},
   "source": [
    "### HR Employee Information"
   ]
  },
  {
   "cell_type": "code",
   "execution_count": 4,
   "id": "8e5d8ec8-2a0c-4d44-8f3c-a2c904cfb40a",
   "metadata": {},
   "outputs": [],
   "source": [
    "# Employee HR Model\n",
    "class EmployeeHR(BaseModel):\n",
    "    employee_id: str\n",
    "    first_name: str\n",
    "    last_name: str\n",
    "    date_of_birth: date\n",
    "    gender: str\n",
    "    email: str\n",
    "    phone_number: str\n",
    "    department: str\n",
    "    position: str\n",
    "    hire_date: date\n",
    "    salary: float\n",
    "    performance_rating: float\n",
    "    address: str\n",
    "    emergency_contact: str\n",
    "    skills: List[str]\n",
    "    education: List[str]\n",
    "\n",
    "hr_examples = [\n",
    "    {\n",
    "        \"example\": \"\"\"Employee ID: EMP001, First Name: Sarah, Last Name: Johnson, Date of Birth: 1985-03-15, \n",
    "        Gender: Female, Email: sarah.johnson@company.com, Phone Number: +1-555-123-4567, \n",
    "        Department: Marketing, Position: Senior Marketing Manager, Hire Date: 2010-06-01, \n",
    "        Salary: 85000.00, Performance Rating: 4.5, Address: 123 Main St, Anytown, USA 12345, \n",
    "        Emergency Contact: John Johnson (Husband) +1-555-987-6543, \n",
    "        Skills: Digital Marketing, Content Strategy, SEO, Social Media Management, \n",
    "        Education: Bachelor of Business Administration, Master of Marketing\"\"\"\n",
    "    },\n",
    "    {\n",
    "        \"example\": \"\"\"Employee ID: EMP002, First Name: Michael, Last Name: Chen, Date of Birth: 1990-11-22, \n",
    "        Gender: Male, Email: michael.chen@company.com, Phone Number: +1-555-234-5678, \n",
    "        Department: IT, Position: Software Developer, Hire Date: 2015-09-15, \n",
    "        Salary: 78000.00, Performance Rating: 4.2, Address: 456 Oak Ave, Tech City, USA 67890, \n",
    "        Emergency Contact: Lisa Chen (Wife) +1-555-876-5432, \n",
    "        Skills: Python, JavaScript, React, Docker, AWS, \n",
    "        Education: Bachelor of Science in Computer Science, AWS Certified Developer\"\"\"\n",
    "    },\n",
    "    {\n",
    "        \"example\": \"\"\"Employee ID: EMP003, First Name: Emily, Last Name: Rodriguez, Date of Birth: 1988-07-30, \n",
    "        Gender: Female, Email: emily.rodriguez@company.com, Phone Number: +1-555-345-6789, \n",
    "        Department: Human Resources, Position: HR Specialist, Hire Date: 2013-02-28, \n",
    "        Salary: 65000.00, Performance Rating: 4.0, Address: 789 Elm St, Metro City, USA 54321, \n",
    "        Emergency Contact: David Rodriguez (Brother) +1-555-765-4321, \n",
    "        Skills: Recruitment, Employee Relations, HRIS, Conflict Resolution, \n",
    "        Education: Bachelor of Arts in Psychology, PHR Certification\"\"\"\n",
    "    }\n",
    "]"
   ]
  },
  {
   "cell_type": "markdown",
   "id": "82db4fda-b50c-4005-8ad6-a99e6ebaeb20",
   "metadata": {},
   "source": [
    "### Medical Records"
   ]
  },
  {
   "cell_type": "code",
   "execution_count": null,
   "id": "d514490a-e0bf-49f3-9eff-c598e857be4e",
   "metadata": {},
   "outputs": [],
   "source": [
    "# Medical Record Data Model\n",
    "class MedicalRecord(BaseModel):\n",
    "    patient_id: str\n",
    "    first_name: str\n",
    "    last_name: str\n",
    "    date_of_birth: date\n",
    "    gender: str\n",
    "    blood_type: str\n",
    "    height: float\n",
    "    weight: float\n",
    "    allergies: List[str]\n",
    "    chronic_conditions: List[str]\n",
    "    emergency_contact: str\n",
    "    insurance_provider: str\n",
    "    insurance_policy_number: str\n",
    "    \n",
    "medical_examples = [\n",
    "    {\n",
    "        \"example\": \"\"\"Patient ID: P12345, First Name: Emily, Last Name: Johnson, Date of Birth: 1985-03-15, \n",
    "        Gender: Female, Blood Type: A+, Height: 165.0, Weight: 60.5, \n",
    "        Allergies: [Penicillin, Peanuts], Chronic Conditions: [Asthma, Migraine], \n",
    "        Emergency Contact: Michael Johnson (Husband) +1-555-123-4567, \n",
    "        Insurance Provider: HealthGuard, Insurance Policy Number: HG987654321\"\"\"\n",
    "    },\n",
    "    {\n",
    "        \"example\": \"\"\"Patient ID: P67890, First Name: Robert, Last Name: Chen, Date of Birth: 1972-11-08, \n",
    "        Gender: Male, Blood Type: B-, Height: 178.0, Weight: 82.3, \n",
    "        Allergies: [Sulfa drugs], Chronic Conditions: [Type 2 Diabetes, Hypertension], \n",
    "        Emergency Contact: Lisa Chen (Wife) +1-555-987-6543, \n",
    "        Insurance Provider: MediCare Plus, Insurance Policy Number: MP123456789\"\"\"\n",
    "    },\n",
    "    {\n",
    "        \"example\": \"\"\"Patient ID: P24680, First Name: Sophia, Last Name: Martinez, Date of Birth: 1990-07-22, \n",
    "        Gender: Female, Blood Type: O+, Height: 170.5, Weight: 65.8, \n",
    "        Allergies: [Latex, Shellfish], Chronic Conditions: [Hypothyroidism], \n",
    "        Emergency Contact: Carlos Martinez (Father) +1-555-246-8024, \n",
    "        Insurance Provider: BlueCross, Insurance Policy Number: BC135792468\"\"\"\n",
    "    }\n",
    "]"
   ]
  },
  {
   "cell_type": "markdown",
   "id": "29eb81f6-09f8-4843-9ade-b5f7dab8e222",
   "metadata": {},
   "source": [
    "---\n",
    "# Defining the Few Shot Prompt\n",
    "\n",
    "Using our defined data models and examples, we can create a few shot prompt\n",
    "\n",
    "Documentation Here: https://python.langchain.com/v0.1/docs/modules/model_io/prompts/few_shot_examples/\n",
    "\n",
    "**Specifics:**  \n",
    "* `prefix`: Appended to the beginning of the final prompt\n",
    "* `suffix`: Appeneded to the end of the final promtp\n",
    "* `examples`: Preset few-shot examples\n",
    "* `input_variables`: Allows for dynamic input of different variables into the prompt\n",
    "* `example_prompt`: A prompt formatter that will format the few shot examples into a string"
   ]
  },
  {
   "cell_type": "code",
   "execution_count": 5,
   "id": "b07643c3-f102-4c5e-a974-d9c43f7b887f",
   "metadata": {},
   "outputs": [],
   "source": [
    "prompt_template = FewShotPromptTemplate(\n",
    "    prefix = \"This is a test about generating synthetic data about {subject}. Examples below:\",\n",
    "    examples = hr_examples,\n",
    "    suffix = \"Now you generate synthetic data about {subject}. Make sure to {extra}:\",\n",
    "    input_variables = [\"subject\", \"extra\"],\n",
    "    example_prompt = PromptTemplate(input_variables=[\"example\"], template=\"{example}\"),\n",
    ")"
   ]
  },
  {
   "cell_type": "code",
   "execution_count": 6,
   "id": "42007803-8dd2-498f-931a-972e1d265962",
   "metadata": {},
   "outputs": [
    {
     "data": {
      "text/plain": [
       "{'name': None,\n",
       " 'input_variables': ['extra', 'subject'],\n",
       " 'optional_variables': [],\n",
       " 'input_types': {},\n",
       " 'output_parser': None,\n",
       " 'partial_variables': {},\n",
       " 'metadata': None,\n",
       " 'tags': None,\n",
       " 'examples': [{'example': 'Employee ID: EMP001, First Name: Sarah, Last Name: Johnson, Date of Birth: 1985-03-15, \\n        Gender: Female, Email: sarah.johnson@company.com, Phone Number: +1-555-123-4567, \\n        Department: Marketing, Position: Senior Marketing Manager, Hire Date: 2010-06-01, \\n        Salary: 85000.00, Performance Rating: 4.5, Address: 123 Main St, Anytown, USA 12345, \\n        Emergency Contact: John Johnson (Husband) +1-555-987-6543, \\n        Skills: Digital Marketing, Content Strategy, SEO, Social Media Management, \\n        Education: Bachelor of Business Administration, Master of Marketing'},\n",
       "  {'example': 'Employee ID: EMP002, First Name: Michael, Last Name: Chen, Date of Birth: 1990-11-22, \\n        Gender: Male, Email: michael.chen@company.com, Phone Number: +1-555-234-5678, \\n        Department: IT, Position: Software Developer, Hire Date: 2015-09-15, \\n        Salary: 78000.00, Performance Rating: 4.2, Address: 456 Oak Ave, Tech City, USA 67890, \\n        Emergency Contact: Lisa Chen (Wife) +1-555-876-5432, \\n        Skills: Python, JavaScript, React, Docker, AWS, \\n        Education: Bachelor of Science in Computer Science, AWS Certified Developer'},\n",
       "  {'example': 'Employee ID: EMP003, First Name: Emily, Last Name: Rodriguez, Date of Birth: 1988-07-30, \\n        Gender: Female, Email: emily.rodriguez@company.com, Phone Number: +1-555-345-6789, \\n        Department: Human Resources, Position: HR Specialist, Hire Date: 2013-02-28, \\n        Salary: 65000.00, Performance Rating: 4.0, Address: 789 Elm St, Metro City, USA 54321, \\n        Emergency Contact: David Rodriguez (Brother) +1-555-765-4321, \\n        Skills: Recruitment, Employee Relations, HRIS, Conflict Resolution, \\n        Education: Bachelor of Arts in Psychology, PHR Certification'}],\n",
       " 'example_selector': None,\n",
       " 'validate_template': False,\n",
       " 'example_prompt': PromptTemplate(input_variables=['example'], template='{example}'),\n",
       " 'suffix': 'Now you generate synthetic data about {subject}. Make sure to {extra}:',\n",
       " 'example_separator': '\\n\\n',\n",
       " 'prefix': 'This is a test about generating synthetic data about {subject}. Examples below:',\n",
       " 'template_format': 'f-string'}"
      ]
     },
     "execution_count": 6,
     "metadata": {},
     "output_type": "execute_result"
    }
   ],
   "source": [
    "dict(prompt_template)"
   ]
  },
  {
   "cell_type": "markdown",
   "id": "be2e17b5-2c1b-4c7a-a642-43b914073be7",
   "metadata": {},
   "source": [
    "---\n",
    "# Defining the Synthetic Data Generator\n",
    "\n",
    "Combining the data model schema, the language model, and the prompt together\n",
    "\n",
    "Essentially uses OpenAI's function calling capability to output structured data repeatably and reliably along within a LangChain Chain"
   ]
  },
  {
   "cell_type": "code",
   "execution_count": 7,
   "id": "1eb1ba8d-cdec-457b-9161-32fa1bba4b07",
   "metadata": {},
   "outputs": [],
   "source": [
    "synthetic_data_generator = create_openai_data_generator(\n",
    "    output_schema=EmployeeHR,\n",
    "    llm=ChatOpenAI(model = \"gpt-4o\", temperature=1),\n",
    "    prompt=prompt_template,\n",
    ")"
   ]
  },
  {
   "cell_type": "markdown",
   "id": "68d067dc-8707-4401-9de2-71e7342e2c8b",
   "metadata": {},
   "source": [
    "### Generating Synthetic Data!\n",
    "\n",
    "Can pass in any extra instructions now as well, which we specified in our few shot prompt within our suffix"
   ]
  },
  {
   "cell_type": "code",
   "execution_count": 9,
   "id": "d730afb5-b2a1-4218-b83a-7541b14a4956",
   "metadata": {},
   "outputs": [],
   "source": [
    "synthetic_results = None\n",
    "\n",
    "synthetic_results = synthetic_data_generator.generate(\n",
    "    subject=\"employee_data\",\n",
    "    extra=\"Make the name something you would usually not pick\",\n",
    "    runs=20,\n",
    ")"
   ]
  },
  {
   "cell_type": "markdown",
   "id": "379787e5-a038-46a1-ad7c-8022b7eb4465",
   "metadata": {},
   "source": [
    "And now we can inspect the data"
   ]
  },
  {
   "cell_type": "code",
   "execution_count": 10,
   "id": "041c0897-a595-4c36-9e23-864d12f504a9",
   "metadata": {
    "scrolled": true
   },
   "outputs": [
    {
     "data": {
      "text/plain": [
       "[EmployeeHR(employee_id='EMP004', first_name='Quincy', last_name='Thompson', date_of_birth=datetime.date(1992, 10, 5), gender='Male', email='quincy.thompson@company.com', phone_number='+1-555-456-7890', department='Finance', position='Financial Analyst', hire_date=datetime.date(2018, 3, 19), salary=72000.0, performance_rating=4.3, address='234 Pine St, Commerce City, USA 45678', emergency_contact='Isabella Thompson (Sister) +1-555-654-3210', skills=['Financial Modeling', 'Excel', 'Data Analysis', 'Budgeting'], education=['Bachelor of Science in Finance', 'CFA Level 1']),\n",
       " EmployeeHR(employee_id='EMP005', first_name='Sophie', last_name='Lindgren', date_of_birth=datetime.date(1995, 9, 14), gender='Female', email='sophie.lindgren@company.com', phone_number='+1-555-567-8901', department='Marketing', position='Content Strategist', hire_date=datetime.date(2020, 6, 15), salary=67000.0, performance_rating=4.5, address='123 Maple St, Marketingville, USA 98765', emergency_contact='Oskar Lindgren (Brother) +1-555-321-0987', skills=['Content Creation', 'SEO', 'Social Media Strategy', 'Copywriting'], education=['Bachelor of Arts in Journalism', 'Content Marketing Certification']),\n",
       " EmployeeHR(employee_id='EMP006', first_name='Percival', last_name='Underwood', date_of_birth=datetime.date(1986, 11, 22), gender='Male', email='percival.underwood@company.com', phone_number='+1-555-678-9012', department='Research & Development', position='Senior Researcher', hire_date=datetime.date(2011, 5, 16), salary=95000.0, performance_rating=4.7, address='321 Oak St, Innovate City, USA 12345', emergency_contact='Charlotte Underwood (Spouse) +1-555-876-5432', skills=['Research Methodology', 'Data Analysis', 'Project Management', 'Machine Learning'], education=['Ph.D. in Computer Science', 'Master of Science in Artificial Intelligence']),\n",
       " EmployeeHR(employee_id='EMP007', first_name='Maximus', last_name='Valentine', date_of_birth=datetime.date(1990, 12, 1), gender='Male', email='maximus.valentine@company.com', phone_number='+1-555-789-0123', department='Human Resources', position='HR Manager', hire_date=datetime.date(2016, 7, 22), salary=84000.0, performance_rating=4.6, address='789 Birch St, HR Town, USA 65432', emergency_contact='Julia Valentine (Wife) +1-555-234-5678', skills=['Employee Relations', 'Performance Management', 'Recruitment', 'Training & Development'], education=['Bachelor of Arts in Human Resources Management', 'SHRM-CP']),\n",
       " EmployeeHR(employee_id='EMP008', first_name='Zephyr', last_name='Montague', date_of_birth=datetime.date(1992, 4, 18), gender='Non-binary', email='zephyr.montague@company.com', phone_number='+1-555-890-1234', department='Information Technology', position='Cybersecurity Analyst', hire_date=datetime.date(2018, 3, 12), salary=88000.0, performance_rating=4.3, address='456 Spruce St, Cyber City, USA 67890', emergency_contact='River Montague (Sibling) +1-555-432-1098', skills=['Network Security', 'Risk Assessment', 'Cryptography', 'Incident Response'], education=['Bachelor of Science in Information Security', 'Certified Information Systems Security Professional (CISSP)']),\n",
       " EmployeeHR(employee_id='EMP009', first_name='Quintus', last_name='Hobbleton', date_of_birth=datetime.date(1985, 7, 14), gender='Male', email='quintus.hobbleton@company.com', phone_number='+1-555-901-2345', department='Marketing', position='Marketing Director', hire_date=datetime.date(2013, 10, 1), salary=102000.0, performance_rating=4.8, address='876 Elm St, Marketingville, USA 89012', emergency_contact='Lydia Hobbleton (Wife) +1-555-345-6789', skills=['Brand Management', 'Market Research', 'Digital Advertising', 'Customer Insights'], education=['Master of Business Administration (MBA)', 'Bachelor of Arts in Marketing']),\n",
       " EmployeeHR(employee_id='EMP010', first_name='Octavia', last_name='Mercer', date_of_birth=datetime.date(1988, 10, 29), gender='Female', email='octavia.mercer@company.com', phone_number='+1-555-678-3456', department='Research and Development', position='Lead Research Scientist', hire_date=datetime.date(2015, 9, 5), salary=95000.0, performance_rating=4.4, address='1010 Innovation Dr, Research City, USA 12345', emergency_contact='Felix Mercer (Brother) +1-555-567-1234', skills=['Data Analysis', 'Experimental Design', 'Product Development', 'Technical Writing'], education=['Doctor of Philosophy in Biochemistry', 'Bachelor of Science in Molecular Biology']),\n",
       " EmployeeHR(employee_id='EMP011', first_name='Aurelius', last_name='Winterbourne', date_of_birth=datetime.date(1990, 11, 5), gender='Male', email='aurelius.winterbourne@company.com', phone_number='+1-555-123-4567', department='Human Resources', position='HR Manager', hire_date=datetime.date(2016, 6, 15), salary=78000.0, performance_rating=4.1, address='789 Maple St, HR Town, USA 56789', emergency_contact='Cassia Winterbourne (Sister) +1-555-765-4321', skills=['Conflict Resolution', 'Recruiting', 'Employee Relations', 'Training and Development'], education=['Bachelor of Arts in Human Resource Management', 'Professional in Human Resources (PHR)']),\n",
       " EmployeeHR(employee_id='EMP012', first_name='Zephyra', last_name='Nightshade', date_of_birth=datetime.date(1992, 8, 19), gender='Female', email='zephyra.nightshade@company.com', phone_number='+1-555-234-5678', department='Information Technology', position='Software Engineer', hire_date=datetime.date(2018, 3, 22), salary=87000.0, performance_rating=4.5, address='345 Tech Road, Silicon City, USA 67890', emergency_contact='Orion Nightshade (Brother) +1-555-876-5432', skills=['Java', 'Python', 'Software Development', 'Database Management'], education=['Bachelor of Science in Computer Science', 'Certified Java Developer']),\n",
       " EmployeeHR(employee_id='EMP013', first_name='Endymion', last_name='Thalassa', date_of_birth=datetime.date(1985, 4, 12), gender='Male', email='endymion.thalassa@company.com', phone_number='+1-555-789-0123', department='Marketing', position='Marketing Director', hire_date=datetime.date(2012, 11, 1), salary=102000.0, performance_rating=4.7, address='1111 Market Pl, Commerce City, USA 11223', emergency_contact='Lyra Thalassa (Wife) +1-555-654-3210', skills=['Brand Management', 'Digital Marketing', 'Market Research', 'Strategic Planning'], education=['Master of Business Administration in Marketing', 'Bachelor of Arts in Communication Studies']),\n",
       " EmployeeHR(employee_id='EMP014', first_name='Callidora', last_name='Frostwhisper', date_of_birth=datetime.date(1988, 2, 24), gender='Female', email='callidora.frostwhisper@company.com', phone_number='+1-555-901-2345', department='Finance', position='Financial Analyst', hire_date=datetime.date(2015, 1, 7), salary=69000.0, performance_rating=4.3, address='123 Money St, Finance City, USA 12345', emergency_contact='Rivan Frostwhisper (Brother) +1-555-345-6789', skills=['Financial Modeling', 'Data Analysis', 'Budgeting', 'Forecasting'], education=['Bachelor of Science in Finance', 'Certified Financial Analyst (CFA)']),\n",
       " EmployeeHR(employee_id='EMP015', first_name='Thanatos', last_name='Shadowalker', date_of_birth=datetime.date(1989, 5, 25), gender='Male', email='thanatos.shadowalker@company.com', phone_number='+1-555-345-6789', department='Human Resources', position='HR Manager', hire_date=datetime.date(2016, 9, 15), salary=72000.0, performance_rating=4.4, address='678 Unity Blvd, Harmony City, USA 22334', emergency_contact='Alecto Shadowalker (Sister) +1-555-987-6543', skills=['Conflict Resolution', 'Employee Engagement', 'Performance Management', 'Recruitment'], education=['Bachelor of Science in Human Resources', 'Certified Professional in Human Resources (PHR)']),\n",
       " EmployeeHR(employee_id='EMP016', first_name='Galadriel', last_name='Starweaver', date_of_birth=datetime.date(1990, 6, 15), gender='Female', email='galadriel.starweaver@company.com', phone_number='+1-555-432-1098', department='Engineering', position='Software Engineer', hire_date=datetime.date(2018, 5, 29), salary=85000.0, performance_rating=4.5, address='789 Tech Dr, Silicon City, USA 33445', emergency_contact='Eldar Starweaver (Brother) +1-555-543-2109', skills=['Java', 'Python', 'System Design', 'Agile Development'], education=['Master of Science in Computer Science', 'Bachelor of Science in Software Engineering']),\n",
       " EmployeeHR(employee_id='EMP017', first_name='Zephyra', last_name='Skydancer', date_of_birth=datetime.date(1991, 3, 19), gender='Female', email='zephyra.skydancer@company.com', phone_number='+1-555-678-1234', department='Marketing', position='Content Strategist', hire_date=datetime.date(2019, 4, 17), salary=64000.0, performance_rating=4.2, address='234 Cloud Ave, Storm City, USA 44556', emergency_contact='Orion Skydancer (Brother) +1-555-876-5432', skills=['Content Creation', 'SEO', 'Copywriting', 'Social Media Management'], education=['Bachelor of Arts in Marketing', 'Certified Content Marketing Specialist']),\n",
       " EmployeeHR(employee_id='EMP018', first_name='Calliope', last_name='Thunderforge', date_of_birth=datetime.date(1992, 8, 29), gender='Female', email='calliope.thunderforge@company.com', phone_number='+1-555-987-6543', department='Finance', position='Financial Analyst', hire_date=datetime.date(2017, 11, 27), salary=68000.0, performance_rating=4.3, address='901 Wealth St, Prosperity City, USA 55667', emergency_contact='Ragnar Thunderforge (Brother) +1-555-345-6780', skills=['Financial Modeling', 'Data Analysis', 'Budgeting', 'Forecasting'], education=['Bachelor of Science in Finance', 'Certified Financial Analyst (CFA)']),\n",
       " EmployeeHR(employee_id='EMP019', first_name='Lirath', last_name='Moonshadow', date_of_birth=datetime.date(1993, 12, 1), gender='Male', email='lirath.moonshadow@company.com', phone_number='+1-555-901-2345', department='Research and Development', position='Research Scientist', hire_date=datetime.date(2020, 8, 14), salary=92000.0, performance_rating=4.7, address='456 Innovation Blvd, Discovery City, USA 66778', emergency_contact='Eldrin Moonshadow (Uncle) +1-555-678-9012', skills=['Biotechnology', 'Data Analysis', 'Scientific Writing', 'Project Management'], education=['Doctor of Philosophy in Biotechnology', 'Master of Science in Biochemistry']),\n",
       " EmployeeHR(employee_id='EMP020', first_name='Thalindra', last_name='Starwhisper', date_of_birth=datetime.date(1988, 2, 14), gender='Non-binary', email='thalindra.starwhisper@company.com', phone_number='+1-555-765-4321', department='Human Resources', position='HR Manager', hire_date=datetime.date(2016, 3, 10), salary=75000.0, performance_rating=4.5, address='789 Harmony Ln, Unity City, USA 33445', emergency_contact='Belanor Starwhisper (Cousin) +1-555-123-4567', skills=['Employee Relations', 'Recruitment', 'Conflict Resolution', 'Talent Management'], education=['Bachelor of Science in Human Resources Management', 'Certified Professional in Human Resources (PHR)']),\n",
       " EmployeeHR(employee_id='EMP021', first_name='Zephyra', last_name='Stormquill', date_of_birth=datetime.date(1991, 3, 19), gender='Female', email='zephyra.stormquill@company.com', phone_number='+1-555-321-0987', department='Marketing', position='Content Strategist', hire_date=datetime.date(2018, 5, 22), salary=72000.0, performance_rating=4.6, address='123 Creative Way, Imagination City, USA 22987', emergency_contact='Aelion Stormquill (Father) +1-555-876-5432', skills=['Content Creation', 'SEO', 'Digital Marketing', 'Copywriting'], education=['Bachelor of Arts in English Literature', 'Certified Content Marketing Specialist (CCMS)']),\n",
       " EmployeeHR(employee_id='EMP022', first_name='Xandros', last_name='Nightbreeze', date_of_birth=datetime.date(1990, 7, 28), gender='Male', email='xandros.nightbreeze@company.com', phone_number='+1-555-432-1987', department='Information Technology', position='Systems Administrator', hire_date=datetime.date(2019, 11, 15), salary=87000.0, performance_rating=4.8, address='321 Tech Park, Innovation Town, USA 55678', emergency_contact='Liora Nightbreeze (Sister) +1-555-654-3210', skills=['Network Security', 'System Maintenance', 'Cloud Computing', 'Technical Support'], education=['Bachelor of Science in Information Technology', 'Certified Information Systems Security Professional (CISSP)']),\n",
       " EmployeeHR(employee_id='EMP023', first_name='Valindra', last_name='Moonshadow', date_of_birth=datetime.date(1985, 11, 30), gender='Female', email='valindra.moonshadow@company.com', phone_number='+1-555-987-6543', department='Research and Development', position='Lead Scientist', hire_date=datetime.date(2014, 8, 19), salary=95000.0, performance_rating=4.9, address='456 Discovery Dr, Innovation Town, USA 55679', emergency_contact='Elaria Moonshadow (Spouse) +1-555-345-6789', skills=['Biotechnology Research', 'Data Analysis', 'Project Management', 'Molecular Biology'], education=['Doctor of Philosophy in Molecular Biology', 'Master of Science in Biotechnology', 'Professional Project Management Certificate (PPMC)'])]"
      ]
     },
     "execution_count": 10,
     "metadata": {},
     "output_type": "execute_result"
    }
   ],
   "source": [
    "synthetic_results"
   ]
  },
  {
   "cell_type": "code",
   "execution_count": 11,
   "id": "c7449c11-9bce-4b6d-bf3b-f6a379223df5",
   "metadata": {},
   "outputs": [
    {
     "name": "stdout",
     "output_type": "stream",
     "text": [
      "('employee_id', 'EMP004')\n",
      "('first_name', 'Quincy')\n",
      "('last_name', 'Thompson')\n",
      "('date_of_birth', datetime.date(1992, 10, 5))\n",
      "('gender', 'Male')\n",
      "('email', 'quincy.thompson@company.com')\n",
      "('phone_number', '+1-555-456-7890')\n",
      "('department', 'Finance')\n",
      "('position', 'Financial Analyst')\n",
      "('hire_date', datetime.date(2018, 3, 19))\n",
      "('salary', 72000.0)\n",
      "('performance_rating', 4.3)\n",
      "('address', '234 Pine St, Commerce City, USA 45678')\n",
      "('emergency_contact', 'Isabella Thompson (Sister) +1-555-654-3210')\n",
      "('skills', ['Financial Modeling', 'Excel', 'Data Analysis', 'Budgeting'])\n",
      "('education', ['Bachelor of Science in Finance', 'CFA Level 1'])\n"
     ]
    }
   ],
   "source": [
    "for result in synthetic_results[0]:\n",
    "    print(result)"
   ]
  },
  {
   "cell_type": "markdown",
   "id": "fb29e8d5-282e-4bdd-9677-4f826a21bc34",
   "metadata": {},
   "source": [
    "---\n",
    "# Saving Data\n",
    "\n",
    "Now that we have a data model and generated data, it's easy to convert the generated data into a shareable format, like CSV"
   ]
  },
  {
   "cell_type": "code",
   "execution_count": 12,
   "id": "86fd20ba-fe75-49d9-aff8-4fd539db01c9",
   "metadata": {},
   "outputs": [],
   "source": [
    "def basemodel_to_csv(model: Type[BaseModel], data: List[BaseModel], filename: str):\n",
    "    # Get field names from the model\n",
    "    field_names = list(model.__fields__.keys())\n",
    "    \n",
    "    with open(filename, 'w', newline='') as csvfile:\n",
    "        writer = csv.DictWriter(csvfile, fieldnames=field_names)\n",
    "        \n",
    "        # Write the header\n",
    "        writer.writeheader()\n",
    "        \n",
    "        # Write the data\n",
    "        for record in data:\n",
    "            row = {}\n",
    "            for field in field_names:\n",
    "                value = getattr(record, field)\n",
    "                if isinstance(value, list):\n",
    "                    row[field] = ', '.join(map(str, value))\n",
    "                else:\n",
    "                    row[field] = str(value)\n",
    "            writer.writerow(row)\n",
    "\n",
    "# Example\n",
    "basemodel_to_csv(EmployeeHR, synthetic_results, 'hr_records_example.csv')"
   ]
  },
  {
   "cell_type": "code",
   "execution_count": null,
   "id": "cb9a28e1-92fc-42d5-8177-980e06a3f99f",
   "metadata": {},
   "outputs": [],
   "source": []
  }
 ],
 "metadata": {
  "kernelspec": {
   "display_name": "Python 3 (ipykernel)",
   "language": "python",
   "name": "python3"
  },
  "language_info": {
   "codemirror_mode": {
    "name": "ipython",
    "version": 3
   },
   "file_extension": ".py",
   "mimetype": "text/x-python",
   "name": "python",
   "nbconvert_exporter": "python",
   "pygments_lexer": "ipython3",
   "version": "3.12.1"
  }
 },
 "nbformat": 4,
 "nbformat_minor": 5
}
